{
 "cells": [
  {
   "cell_type": "code",
   "execution_count": null,
   "id": "153a2d42-b88a-4cbf-ba69-43d91c01b0c4",
   "metadata": {},
   "outputs": [],
   "source": [
    "Q1. What is multiprocessing in python? Why is it useful?\n",
    "Ans1 -\n",
    "In Python, multiprocessing is a module that enables the execution of multiple processes in parallel. \n",
    "It provides a way to leverage the power of multiple CPU cores or processors to perform tasks concurrently, \n",
    "thus achieving better performance and faster execution times.\n",
    "\n",
    "The multiprocessing module allows us to create and manage processes, which are separate instances of the Python interpreter. \n",
    "Each process runs independently and has its own memory space, allowing for true parallel execution.\n",
    "This is different from threading, where multiple threads share the same memory space and can be subject to Global Interpreter Lock (GIL)\n",
    "limitations in Python, which can limit true parallelism.\n",
    "\n",
    "Here are some key reasons why multiprocessing is useful:\n",
    "\n",
    "1.Increased performance: By distributing the workload among multiple processes, you can effectively utilize multiple CPU cores and\n",
    "perform tasks in parallel. This can significantly speed up the execution of CPU-bound or computationally intensive tasks.\n",
    "\n",
    "2.Improved responsiveness: Multiprocessing can be particularly beneficial in scenarios where you have tasks that are I/O-bound, \n",
    "such as reading from or writing to files, making network requests, or interacting with a database. \n",
    "While one process is waiting for I/O operations to complete, other processes can continue executing, \n",
    "leading to improved overall responsiveness.\n",
    "\n",
    "3.Enhanced resource utilization: Modern computers often have multiple CPU cores, and by using multiprocessing, \n",
    "we can fully utilize these resources. It allows us to make the most out of available hardware and take advantage of the parallel \n",
    "processing capabilities of your system.\n",
    "\n",
    "4.Isolation and fault tolerance: Each process in multiprocessing runs independently and has its own memory space.\n",
    "If one process encounters an error or crashes, it does not affect the other processes. \n",
    "This isolation provides better fault tolerance and stability to our applications.\n"
   ]
  },
  {
   "cell_type": "code",
   "execution_count": null,
   "id": "e4ea7d29-fe84-44ba-ad37-3882278138f0",
   "metadata": {},
   "outputs": [],
   "source": [
    "Q2. What are the differences between multiprocessing and multithreading?\n",
    "Ans 2- \n",
    "Multiprocessing and multithreading are both techniques used in concurrent programming to achieve parallelism and improve performance.\n",
    "However, they differ in how they handle concurrent execution and resource management. \n",
    "Here are the key differences between multiprocessing and multithreading:\n",
    "\n",
    "1.Concept:\n",
    "\n",
    "Multiprocessing: Multiprocessing involves executing multiple processes simultaneously, where each process has its own memory space \n",
    "and resources. Processes are independent and communicate through inter-process communication (IPC) mechanisms.\n",
    "Multithreading: Multithreading involves executing multiple threads within a single process. Threads share the same memory space \n",
    "and resources, including the heap and global variables. Threads communicate through shared memory.\n",
    "\n",
    "2.Resource Allocation:\n",
    "\n",
    "Multiprocessing: Each process has its own separate memory space and resources. Processes are isolated, \n",
    "and one process cannot directly access or modify another process's memory.\n",
    "Multithreading: Threads within a process share the same memory space and resources. Threads can directly access and \n",
    "modify shared data, which requires careful synchronization to avoid conflicts.\n",
    "\n",
    "3.Concurrency and Parallelism:\n",
    "\n",
    "Multiprocessing: Processes can be executed in parallel on multiple CPU cores, allowing true parallelism. \n",
    "Each process runs independently and can perform its own tasks simultaneously.\n",
    "Multithreading: Threads within a process share the same CPU core and are executed concurrently through context switching.\n",
    "Multithreading enables concurrent execution, but true parallelism is limited by the number of available CPU cores.\n",
    "\n",
    "4.Overhead:\n",
    "\n",
    "Multiprocessing: Creating and managing processes incur higher overhead due to the need for separate memory spaces and \n",
    "inter-process communication. Process creation and context switching are relatively more expensive.\n",
    "Multithreading: Creating and managing threads have lower overhead compared to processes since they share the same memory space.\n",
    "Thread creation and context switching are relatively less expensive.\n",
    "\n",
    "5.Fault Isolation:\n",
    "\n",
    "Multiprocessing: If a process crashes or encounters an error, other processes are not affected.\n",
    "Processes are isolated, and errors in one process generally do not propagate to other processes.\n",
    "Multithreading: If a thread crashes or encounters an error, it can affect the stability of the entire process.\n",
    "Threads share the same memory space, so an error in one thread can potentially corrupt shared data or cause the entire process to crash.\n",
    "\n",
    "6.Complexity:\n",
    "\n",
    "Multiprocessing: Inter-process communication requires explicit mechanisms such as pipes, sockets, or shared memory. \n",
    "Coordinating and synchronizing between processes can be more complex than with threads.\n",
    "Multithreading: Threads within a process can communicate more easily through shared memory.\n",
    "Synchronization mechanisms like locks, semaphores, and condition variables are used to coordinate access to shared resources."
   ]
  },
  {
   "cell_type": "code",
   "execution_count": null,
   "id": "d0f3828d-8097-4081-818f-43531ca30406",
   "metadata": {},
   "outputs": [],
   "source": [
    "Q3. Write a python code to create a process using the multiprocessing module.\n",
    "Ans3-\n"
   ]
  },
  {
   "cell_type": "code",
   "execution_count": 2,
   "id": "372d935a-f318-4c90-a0fc-d1aca6e316f9",
   "metadata": {
    "collapsed": true,
    "jupyter": {
     "outputs_hidden": true
    },
    "tags": []
   },
   "outputs": [
    {
     "name": "stdout",
     "output_type": "stream",
     "text": [
      "This is the child process.\n",
      "This is the main process.\n"
     ]
    }
   ],
   "source": [
    "import multiprocessing\n",
    "\n",
    "def process_function():\n",
    "    \n",
    "    print(\"This is the child process.\")\n",
    "\n",
    "if __name__ == \"__main__\":\n",
    "\n",
    "    process = multiprocessing.Process(target=process_function)\n",
    "\n",
    "    process.start()\n",
    "\n",
    "    process.join()\n",
    "\n",
    "    print(\"This is the main process.\")\n"
   ]
  },
  {
   "cell_type": "code",
   "execution_count": null,
   "id": "43c97ebe-e584-4893-9e5c-5b6de5158b74",
   "metadata": {},
   "outputs": [],
   "source": [
    "Q4. What is a multiprocessing pool in python? Why is it used?\n",
    "Ans4-\n",
    "In Python, a multiprocessing pool is a mechanism provided by the multiprocessing module that allows for the execution of \n",
    "multiple processes simultaneously. It provides a convenient way to distribute the workload across multiple CPUs or cores, \n",
    "thereby achieving parallel processing.\n",
    "\n",
    "The multiprocessing pool is typically used when you have a computationally intensive task or a large amount of data to process, \n",
    "and we want to leverage the full power of our machine's hardware. By utilizing multiple processes, we can divide the work among them \n",
    "and execute them concurrently, thereby speeding up the overall execution time.\n",
    "\n",
    "Here are some key points about the multiprocessing pool in Python:\n",
    "\n",
    "1.Pool Creation: To create a multiprocessing pool, we need to import the multiprocessing module and create an instance of the Pool class.\n",
    "The number of processes to be used can be specified as an argument during the pool creation. By default, if no argument is provided,\n",
    "it will use the number of CPUs available on our machine.\n",
    "\n",
    "2.Task Distribution: Once the pool is created, we can submit tasks to it using the apply(), map(), or imap() methods. \n",
    "These methods take a function and a set of arguments, and they distribute the tasks among the available processes in the pool.\n",
    "\n",
    "3.Blocking and Non-blocking Operations: The apply() method blocks the main program until the result of the function call is obtained.\n",
    "On the other hand, the map() and imap() methods are non-blocking and return an iterable object immediately. \n",
    "we can iterate over this object to retrieve the results asynchronously.\n",
    "\n",
    "4.Results Retrieval: To retrieve the results of the function calls, we can use the get() method of the AsyncResult object returned \n",
    "by the apply() method or the iterable returned by map() and imap(). This allows we to gather the computed results from the different\n",
    "processes."
   ]
  },
  {
   "cell_type": "code",
   "execution_count": null,
   "id": "09fb222b-fb4a-4191-af53-7e68d8b6ac94",
   "metadata": {},
   "outputs": [],
   "source": [
    "Q5. How can we create a pool of worker processes in python using the multiprocessing module?\n",
    "Ans5-\n",
    "In Python, we can create a pool of worker processes using the multiprocessing module. \n",
    "The multiprocessing module provides a Pool class that allows we to easily create and manage a pool of worker processes.\n"
   ]
  },
  {
   "cell_type": "code",
   "execution_count": 11,
   "id": "96bb5bad-d741-4bdc-bc26-5c57ed23096b",
   "metadata": {},
   "outputs": [
    {
     "name": "stdout",
     "output_type": "stream",
     "text": [
      "Original numbers: [1, 2, 3, 4, 5]\n",
      "Squared numbers: [1, 4, 9, 16, 25]\n"
     ]
    }
   ],
   "source": [
    "from multiprocessing import Pool\n",
    "\n",
    "def square(n):\n",
    "    return n * n\n",
    "\n",
    "if __name__ == '__main__':\n",
    "    pool = Pool(processes=4)\n",
    "\n",
    "    numbers = [1, 2, 3, 4, 5]\n",
    "    results = pool.map(square, numbers)\n",
    "\n",
    "    pool.close()\n",
    "    pool.join()\n",
    "\n",
    "    print(\"Original numbers:\", numbers)\n",
    "    print(\"Squared numbers:\", results)\n"
   ]
  },
  {
   "cell_type": "code",
   "execution_count": null,
   "id": "05ed11c9-f126-4b17-8951-3b4cd55ed961",
   "metadata": {},
   "outputs": [],
   "source": [
    "Q6. Write a python program to create 4 processes, each process should print a different number using the\n",
    "multiprocessing module in python.\n",
    "Ans6-\n"
   ]
  },
  {
   "cell_type": "code",
   "execution_count": 12,
   "id": "a47f02fa-42ac-4a34-ba23-8addd8a9621e",
   "metadata": {},
   "outputs": [
    {
     "name": "stdout",
     "output_type": "stream",
     "text": [
      "Process 1: Hello from process 1!\n",
      "Process 2: Hello from process 2!\n",
      "Process 3: Hello from process 3!\n",
      "Process 4: Hello from process 4!\n"
     ]
    }
   ],
   "source": [
    "import multiprocessing\n",
    "\n",
    "def print_number(number):\n",
    "    print(f\"Process {number}: Hello from process {number}!\")\n",
    "\n",
    "if __name__ == '__main__':\n",
    "    processes = []\n",
    "\n",
    "    for i in range(4):\n",
    "        process = multiprocessing.Process(target=print_number, args=(i+1,))\n",
    "        processes.append(process)\n",
    "        process.start()\n",
    "\n",
    "    for process in processes:\n",
    "        process.join()\n"
   ]
  },
  {
   "cell_type": "code",
   "execution_count": null,
   "id": "7030e591-bed7-4832-813b-b7d1c55fc924",
   "metadata": {},
   "outputs": [],
   "source": []
  }
 ],
 "metadata": {
  "kernelspec": {
   "display_name": "Python 3 (ipykernel)",
   "language": "python",
   "name": "python3"
  },
  "language_info": {
   "codemirror_mode": {
    "name": "ipython",
    "version": 3
   },
   "file_extension": ".py",
   "mimetype": "text/x-python",
   "name": "python",
   "nbconvert_exporter": "python",
   "pygments_lexer": "ipython3",
   "version": "3.10.8"
  }
 },
 "nbformat": 4,
 "nbformat_minor": 5
}
